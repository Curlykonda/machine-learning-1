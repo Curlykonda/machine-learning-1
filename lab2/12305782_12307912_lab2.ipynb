{
 "cells": [
  {
   "cell_type": "markdown",
   "metadata": {},
   "source": [
    "# **Save this file as studentid1_studentid2_lab2.ipynb**, please check this suffix when you upload your lab, especially when you have multiple copy's in the same folder!\n",
    "(Your student-id is the number shown on your student card.)\n",
    "\n",
    "E.g. if you work with 3 people, the notebook should be named:\n",
    "12301230_3434343_1238938934_lab2.ipynb.\n",
    "\n",
    "**This will be parsed by a regexp, so please double check your filename.**\n",
    "\n",
    "Before you turn this problem in, please make sure everything runs correctly. First, **restart the kernel** (in the menubar, select Kernel$\\rightarrow$Restart) and then **run all cells** (in the menubar, select Cell$\\rightarrow$Run All). Note, that **you are not allowed to use Google Colab**.\n",
    "\n",
    "**Make sure you fill in any place that says `YOUR CODE HERE` or \"YOUR ANSWER HERE\", as well as your names and email adresses below.**\n",
    "\n"
   ]
  },
  {
   "cell_type": "code",
   "execution_count": null,
   "metadata": {},
   "outputs": [],
   "source": [
    "NAME = \"Dániel László\"\n",
    "NAME2 = \"Henning Bartsch\"\n",
    "NAME3 = \"\"\n",
    "EMAIL = \"daniel.laszlo@student.uva.nl\"\n",
    "EMAIL2 = \"bartsch.henning@gmail.com\"\n",
    "EMAIL3 = \"\""
   ]
  },
  {
   "cell_type": "markdown",
   "metadata": {
    "deletable": false,
    "editable": false,
    "nbgrader": {
     "checksum": "f4a038bb9b524e62f6ec198362f51c9b",
     "grade": false,
     "grade_id": "cell-8d856208da5d0763",
     "locked": true,
     "schema_version": 1,
     "solution": false
    }
   },
   "source": [
    "# Lab 2: Classification\n",
    "\n",
    "### Machine Learning 1, November 2018\n",
    "\n",
    "Notes on implementation:\n",
    "\n",
    "* You should write your code and answers in this IPython Notebook: http://ipython.org/notebook.html. If you have problems, please contact your teaching assistant.\n",
    "* Please write your answers right below the questions.\n",
    "* Among the first lines of your notebook should be \"%pylab inline\". This imports all required modules, and your plots will appear inline.\n",
    "* Use the provided test cells to check if your answers are correct\n",
    "* **Make sure your output and plots are correct before handing in your assignment with Kernel -> Restart & Run All**\n",
    "\n",
    "* **If possible, all your implementations should be vectorized and rely on loops as little as possible. Therefore for some questions, we give you a maximum number of loops that are necessary for an efficient implementation. This number refers to the loops in this particular function and does not count the ones in functions that are called from the function. You should not go above this number for the maximum number of points.**\n",
    "\n",
    "$\\newcommand{\\bx}{\\mathbf{x}}$\n",
    "$\\newcommand{\\bw}{\\mathbf{w}}$\n",
    "$\\newcommand{\\bt}{\\mathbf{t}}$\n",
    "$\\newcommand{\\by}{\\mathbf{y}}$\n",
    "$\\newcommand{\\bm}{\\mathbf{m}}$\n",
    "$\\newcommand{\\bb}{\\mathbf{b}}$\n",
    "$\\newcommand{\\bS}{\\mathbf{S}}$\n",
    "$\\newcommand{\\ba}{\\mathbf{a}}$\n",
    "$\\newcommand{\\bz}{\\mathbf{z}}$\n",
    "$\\newcommand{\\bv}{\\mathbf{v}}$\n",
    "$\\newcommand{\\bq}{\\mathbf{q}}$\n",
    "$\\newcommand{\\bp}{\\mathbf{p}}$\n",
    "$\\newcommand{\\bh}{\\mathbf{h}}$\n",
    "$\\newcommand{\\bI}{\\mathbf{I}}$\n",
    "$\\newcommand{\\bX}{\\mathbf{X}}$\n",
    "$\\newcommand{\\bT}{\\mathbf{T}}$\n",
    "$\\newcommand{\\bPhi}{\\mathbf{\\Phi}}$\n",
    "$\\newcommand{\\bW}{\\mathbf{W}}$\n",
    "$\\newcommand{\\bV}{\\mathbf{V}}$"
   ]
  },
  {
   "cell_type": "code",
   "execution_count": null,
   "metadata": {
    "deletable": false,
    "editable": false,
    "nbgrader": {
     "checksum": "e3d9c5a44d13bdc7545f1a15d6dc9c8c",
     "grade": false,
     "grade_id": "cell-422dbc02437671ac",
     "locked": true,
     "schema_version": 1,
     "solution": false
    }
   },
   "outputs": [],
   "source": [
    "%pylab inline\n",
    "plt.rcParams[\"figure.figsize\"] = [9,5]\n",
    "\n",
    "import time\n",
    "start = time.time()"
   ]
  },
  {
   "cell_type": "code",
   "execution_count": null,
   "metadata": {
    "deletable": false,
    "editable": false,
    "nbgrader": {
     "checksum": "902185d2dda7e356189a57a09a637182",
     "grade": false,
     "grade_id": "cell-7f215df0e22ae748",
     "locked": true,
     "schema_version": 1,
     "solution": false
    }
   },
   "outputs": [],
   "source": [
    "# This cell makes sure that you have all the necessary libraries installed\n",
    "\n",
    "import sys\n",
    "import platform\n",
    "from importlib.util import find_spec, module_from_spec\n",
    "\n",
    "def check_newer_version(version_inst, version_nec):\n",
    "    version_inst_split = version_inst.split('.')\n",
    "    version_nec_split = version_nec.split('.')\n",
    "    for i in range(min(len(version_inst_split), len(version_nec_split))):\n",
    "        if int(version_nec_split[i]) > int(version_inst_split[i]):\n",
    "            return False\n",
    "        elif int(version_nec_split[i]) < int(version_inst_split[i]):\n",
    "            return True\n",
    "    return True\n",
    "        \n",
    "    \n",
    "module_list = [('jupyter', '1.0.0'), \n",
    "               ('matplotlib', '2.0.2'), \n",
    "               ('numpy', '1.13.1'), \n",
    "               ('python', '3.6.2'), \n",
    "               ('sklearn', '0.19.0'), \n",
    "               ('scipy', '0.19.1'), \n",
    "               ('nb_conda', '2.2.1')]\n",
    "\n",
    "packages_correct = True\n",
    "packages_errors = []\n",
    "\n",
    "for module_name, version in module_list:\n",
    "    if module_name == 'scikit-learn':\n",
    "        module_name = 'sklearn'\n",
    "    if module_name == 'pyyaml':\n",
    "        module_name = 'yaml'\n",
    "    if 'python' in module_name:\n",
    "        python_version = platform.python_version()\n",
    "        if not check_newer_version(python_version, version):\n",
    "            packages_correct = False\n",
    "            error = f'Update {module_name} to version {version}. Current version is {python_version}.'\n",
    "            packages_errors.append(error) \n",
    "            print(error)\n",
    "    else:\n",
    "        spec = find_spec(module_name)\n",
    "        if spec is None:\n",
    "            packages_correct = False\n",
    "            error = f'Install {module_name} with version {version} or newer, it is required for this assignment!'\n",
    "            packages_errors.append(error) \n",
    "            print(error)\n",
    "        else:\n",
    "            x =__import__(module_name)\n",
    "            if hasattr(x, '__version__') and not check_newer_version(x.__version__, version):\n",
    "                packages_correct = False\n",
    "                error = f'Update {module_name} to version {version}. Current version is {x.__version__}.'\n",
    "                packages_errors.append(error) \n",
    "                print(error)\n",
    "\n",
    "try:\n",
    "    from google.colab import drive\n",
    "    packages_correct = False\n",
    "    error = \"\"\"Please, don't use google colab!\n",
    "It will make it much more complicated for us to check your homework as it merges all the cells into one.\"\"\"\n",
    "    packages_errors.append(error) \n",
    "    print(error)\n",
    "except:\n",
    "    pass\n",
    "\n",
    "packages_errors = '\\n'.join(packages_errors)"
   ]
  },
  {
   "cell_type": "markdown",
   "metadata": {
    "deletable": false,
    "editable": false,
    "nbgrader": {
     "checksum": "17f77a32492fcf6ac989eab8a50e4dab",
     "grade": false,
     "grade_id": "cell-821f67d8cd14e4f7",
     "locked": true,
     "schema_version": 1,
     "solution": false
    }
   },
   "source": [
    "# Part 1. Multiclass logistic regression\n",
    "\n",
    "Scenario: you have a friend with one big problem: she's completely blind. You decided to help her: she has a special smartphone for blind people, and you are going to develop a mobile phone app that can do _machine vision_ using the mobile camera: converting a picture (from the camera) to the meaning of the image. You decide to start with an app that can read handwritten digits, i.e. convert an image of handwritten digits to text (e.g. it would enable her to read precious handwritten phone numbers).\n",
    "\n",
    "A key building block for such an app would be a function `predict_digit(x)` that returns the digit class of an image patch $\\bx$. Since hand-coding this function is highly non-trivial, you decide to solve this problem using machine learning, such that the internal parameters of this function are automatically learned using machine learning techniques.\n",
    "\n",
    "The dataset you're going to use for this is the MNIST handwritten digits dataset (`http://yann.lecun.com/exdb/mnist/`). You can download the data with scikit learn, and load it as follows:"
   ]
  },
  {
   "cell_type": "code",
   "execution_count": null,
   "metadata": {
    "deletable": false,
    "editable": false,
    "nbgrader": {
     "checksum": "d31db37aebf93c82a9408cfa97b788d3",
     "grade": false,
     "grade_id": "cell-bcdbc957165abae7",
     "locked": true,
     "schema_version": 1,
     "solution": false
    }
   },
   "outputs": [],
   "source": [
    "from sklearn.datasets import fetch_mldata\n",
    "import os\n",
    "# Fetch the data\n",
    "try:\n",
    "    mnist = fetch_mldata('MNIST original', data_home='.')\n",
    "except Exception:\n",
    "    raise FileNotFoundError('Please download mnist-original.mat from Canvas and put it in %s/mldata' % os.getcwd())\n",
    "data, target = mnist.data, mnist.target.astype('int')\n",
    "# Shuffle\n",
    "indices = np.arange(len(data))\n",
    "np.random.seed(123)\n",
    "np.random.shuffle(indices)\n",
    "data, target = data[indices].astype('float32'), target[indices]\n",
    "\n",
    "# Normalize the data between 0.0 and 1.0:\n",
    "data /= 255. \n",
    "\n",
    "# Split\n",
    "x_train, x_valid, x_test = data[:50000], data[50000:60000], data[60000: 70000]\n",
    "t_train, t_valid, t_test = target[:50000], target[50000:60000], target[60000: 70000]"
   ]
  },
  {
   "cell_type": "markdown",
   "metadata": {
    "deletable": false,
    "editable": false,
    "nbgrader": {
     "checksum": "5b20138af0810741223d2c2ddc82bf0f",
     "grade": false,
     "grade_id": "cell-b7b4a5a96dccf229",
     "locked": true,
     "schema_version": 1,
     "solution": false
    }
   },
   "source": [
    "MNIST consists of small 28 by 28 pixel images of written digits (0-9). We split the dataset into a training, validation and testing arrays. The variables `x_train`, `x_valid` and `x_test` are $N \\times M$ matrices, where $N$ is the number of datapoints in the respective set, and $M = 28^2 = 784$ is the dimensionality of the data. The second set of variables `t_train`, `t_valid` and `t_test` contain the corresponding $N$-dimensional vector of integers, containing the true class labels.\n",
    "\n",
    "Here's a visualisation of the first 8 digits of the trainingset:"
   ]
  },
  {
   "cell_type": "code",
   "execution_count": null,
   "metadata": {
    "deletable": false,
    "editable": false,
    "nbgrader": {
     "checksum": "40e1628ec56b6d664edf9aaf496ea637",
     "grade": false,
     "grade_id": "cell-48a92c0a2a2bf4dd",
     "locked": true,
     "schema_version": 1,
     "solution": false
    }
   },
   "outputs": [],
   "source": [
    "def plot_digits(data, num_cols, targets=None, shape=(28,28)):\n",
    "    num_digits = data.shape[0]\n",
    "    num_rows = int(num_digits/num_cols)\n",
    "    for i in range(num_digits):\n",
    "        plt.subplot(num_rows, num_cols, i+1)\n",
    "        plt.imshow(data[i].reshape(shape), interpolation='none', cmap='Greys')\n",
    "        if targets is not None:\n",
    "            plt.title(int(targets[i]))\n",
    "        plt.colorbar()\n",
    "        plt.axis('off')\n",
    "    plt.tight_layout()\n",
    "    plt.show()\n",
    "    \n",
    "plot_digits(x_train[0:40000:5000], num_cols=4, targets=t_train[0:40000:5000])"
   ]
  },
  {
   "cell_type": "markdown",
   "metadata": {},
   "source": [
    "# HOOK plot digits"
   ]
  },
  {
   "cell_type": "code",
   "execution_count": null,
   "metadata": {},
   "outputs": [],
   "source": [
    "def plot_digits_with_cmap(data, num_cols, targets=None, shape=(28,28), cmap='Greys', title=None):\n",
    "    min_intensity = data.min()\n",
    "    max_intensity = data.max()\n",
    "    \n",
    "    num_digits = data.shape[0]\n",
    "    num_rows = int(num_digits/num_cols)\n",
    "    \n",
    "    for i in range(num_digits):\n",
    "        plt.subplot(num_rows, num_cols, i+1)\n",
    "        plt.imshow(data[i].reshape(shape), interpolation='none', vmin=min_intensity, vmax=max_intensity, cmap=cmap)\n",
    "        if targets is not None:\n",
    "            plt.title(int(targets[i]))\n",
    "        plt.colorbar()\n",
    "        plt.axis('off')\n",
    "    plt.tight_layout()\n",
    "    \n",
    "    fig = plt.gcf()\n",
    "    \n",
    "    if title is not None:\n",
    "        fig.suptitle(title, )\n",
    "        \n",
    "    plt.show()"
   ]
  },
  {
   "cell_type": "markdown",
   "metadata": {
    "deletable": false,
    "editable": false,
    "nbgrader": {
     "checksum": "9c7e0668b7e246603c3c12d9183c9a83",
     "grade": false,
     "grade_id": "cell-3eb664a58e03bf42",
     "locked": true,
     "schema_version": 1,
     "solution": false
    }
   },
   "source": [
    "In _multiclass_ logistic regression, the conditional probability of class label $j$ given the image $\\bx$ for some datapoint is given by:\n",
    "\n",
    "$ \\log p(t = j \\;|\\; \\bx, \\bb, \\bW) = \\log q_j - \\log Z$\n",
    "\n",
    "where $\\log q_j = \\bw_j^T \\bx + b_j$ (the log of the unnormalized probability of the class $j$), and $Z = \\sum_k q_k$ is the normalizing factor. $\\bw_j$ is the $j$-th column of $\\bW$ (a matrix of size $784 \\times 10$) corresponding to the class label, $b_j$ is the $j$-th element of $\\bb$.\n",
    "\n",
    "Given an input image, the multiclass logistic regression model first computes the intermediate vector $\\log \\bq$ (of size $10 \\times 1$), using $\\log q_j = \\bw_j^T \\bx + b_j$, containing the unnormalized log-probabilities per class. \n",
    "\n",
    "The unnormalized probabilities are then normalized by $Z$ such that $\\sum_j p_j = \\sum_j \\exp(\\log p_j) = 1$. This is done by $\\log p_j = \\log q_j - \\log Z$ where $Z = \\sum_i \\exp(\\log q_i)$. This is known as the _softmax_ transformation, and is also used as a last layer of many classifcation neural network models, to ensure that the output of the network is a normalized distribution, regardless of the values of second-to-last layer ($\\log \\bq$)\n",
    "\n",
    "**Warning**: when computing $\\log Z$, you are likely to encounter numerical problems. Save yourself countless hours of debugging and learn the [log-sum-exp trick](https://www.xarg.org/2016/06/the-log-sum-exp-trick-in-machine-learning/ \"Title\").\n",
    "\n",
    "The network's output $\\log \\bp$ of size $10 \\times 1$ then contains the conditional log-probabilities $\\log p(t = j \\;|\\; \\bx, \\bb, \\bW)$ for each digit class $j$. In summary, the computations are done in this order:\n",
    "\n",
    "$\\bx \\rightarrow \\log \\bq \\rightarrow Z \\rightarrow \\log \\bp$\n",
    "\n",
    "Given some dataset with $N$ independent, identically distributed datapoints, the log-likelihood is given by:\n",
    "\n",
    "$ \\mathcal{L}(\\bb, \\bW) = \\sum_{n=1}^N \\mathcal{L}^{(n)}$\n",
    "\n",
    "where we use $\\mathcal{L}^{(n)}$ to denote the partial log-likelihood evaluated over a single datapoint. It is important to see that the log-probability of the class label $t^{(n)}$ given the image, is given by the $t^{(n)}$-th element of the network's output $\\log \\bp$, denoted by $\\log p_{t^{(n)}}$:\n",
    "\n",
    "$\\mathcal{L}^{(n)} = \\log p(t = t^{(n)} \\;|\\; \\bx = \\bx^{(n)}, \\bb, \\bW) = \\log p_{t^{(n)}} = \\log q_{t^{(n)}} - \\log Z^{(n)}$\n",
    "\n",
    "where $\\bx^{(n)}$ and $t^{(n)}$ are the input (image) and class label (integer) of the $n$-th datapoint, and $Z^{(n)}$ is the normalizing constant for the distribution over $t^{(n)}$.\n"
   ]
  },
  {
   "cell_type": "markdown",
   "metadata": {
    "deletable": false,
    "editable": false,
    "nbgrader": {
     "checksum": "88e0996cf7e7e29fd3886b9002845c98",
     "grade": false,
     "grade_id": "cell-17766ee789f11384",
     "locked": true,
     "schema_version": 1,
     "solution": false
    }
   },
   "source": [
    "## 1.1 Gradient-based stochastic optimization\n",
    "### 1.1.1 Derive gradient equations (20 points)\n",
    "\n",
    "Derive the equations for computing the (first) partial derivatives of the log-likelihood w.r.t. all the parameters, evaluated at a _single_ datapoint $n$.\n",
    "\n",
    "You should start deriving the equations for $\\frac{\\partial \\mathcal{L}^{(n)}}{\\partial \\log q_j}$ for each $j$. For clarity, we'll use the shorthand $\\delta^q_j = \\frac{\\partial \\mathcal{L}^{(n)}}{\\partial \\log q_j}$.\n",
    "\n",
    "For $j = t^{(n)}$:\n",
    "$$\n",
    "\\delta^q_j\n",
    "= \\frac{\\partial \\log q_{t^{(n)}}}{\\partial \\log q_j}\n",
    "-\n",
    "\\frac{\\partial \\log Z}{\\partial Z} \n",
    "\\frac{\\partial Z}{\\partial \\log q_j} \n",
    "= 1\n",
    "-\n",
    "\\frac{\\partial \\log Z}{\\partial Z} \n",
    "\\frac{\\partial Z}{\\partial \\log q_j} \n",
    "$$\n",
    "\n",
    "For $j \\neq t^{(n)}$:\n",
    "$$\n",
    "\\delta^q_j\n",
    "= \\frac{\\partial \\log q_{t^{(n)}}}{\\partial \\log q_j}\n",
    "-\n",
    "\\frac{\\partial \\log Z}{\\partial Z} \n",
    "\\frac{\\partial Z}{\\partial \\log q_j} \n",
    "=0 - \\frac{\\partial \\log Z}{\\partial Z} \n",
    "\\frac{\\partial Z}{\\partial \\log q_j}\n",
    "$$\n",
    "\n",
    "Complete the above derivations for $\\delta^q_j$ by furtherly developing $\\frac{\\partial \\log Z}{\\partial Z}$ and $\\frac{\\partial Z}{\\partial \\log q_j}$. Both are quite simple. For these it doesn't matter whether $j = t^{(n)}$ or not.\n",
    "\n"
   ]
  },
  {
   "cell_type": "markdown",
   "metadata": {
    "deletable": false,
    "nbgrader": {
     "checksum": "f394ea0423ed2b17c80bbe8f1193cc81",
     "grade": true,
     "grade_id": "cell-e40110444a1e1d3f",
     "locked": false,
     "points": 10,
     "schema_version": 1,
     "solution": true
    }
   },
   "source": [
    "For $j = t^{(n)}$:\n",
    "\\begin{align}\n",
    "    \\delta^q_j\n",
    "    &= 1 -\n",
    "    \\frac{1}{Z} \n",
    "    \\frac{\\partial Z}{\\partial \\log q_j}\n",
    "    = 1 -\n",
    "    \\frac{1}{Z} \n",
    "    \\frac{\\partial Z}{\\partial q_j} \n",
    "    \\frac{\\partial q_j}{\\partial \\log q_j}\n",
    "    = 1 -\n",
    "    \\frac{1}{Z} \n",
    "    \\frac{\\partial \\sum_i q_i}{\\partial q_j} \n",
    "    \\frac{\\partial q_j}{\\partial \\log q_j} \n",
    "    = 1 -\n",
    "    \\frac{1}{Z} \n",
    "    1\n",
    "    \\frac{\\partial q_j}{\\partial \\log q_j} \n",
    "    = 1 -\n",
    "    \\frac{1}{Z}\n",
    "    \\frac{\\partial \\exp(\\log q_j)}{\\partial \\log q_j} \n",
    "    = 1 -\n",
    "    \\frac{1}{Z}\n",
    "    \\exp(\\log q_j) \\\\\n",
    "    &= 1 -\n",
    "    \\frac{1}{Z}\n",
    "    q_j\n",
    "\\end{align}\n",
    "\n",
    "For $j \\neq t^{(n)}$:\n",
    "\\begin{align}\n",
    "    \\delta^q_j\n",
    "    &= 0 -\n",
    "    \\frac{1}{Z}\n",
    "    q_j\n",
    "\\end{align}\n",
    "YOUR ANSWER HERE"
   ]
  },
  {
   "cell_type": "markdown",
   "metadata": {
    "deletable": false,
    "editable": false,
    "nbgrader": {
     "checksum": "d46c028e9830445397d7b2275815990d",
     "grade": false,
     "grade_id": "cell-c770cfe1389ca4ff",
     "locked": true,
     "schema_version": 1,
     "solution": false
    }
   },
   "source": [
    "Given your equations for computing the gradients $\\delta^q_j$ it should be quite straightforward to derive the equations for the gradients of the parameters of the model, $\\frac{\\partial \\mathcal{L}^{(n)}}{\\partial W_{ij}}$ and $\\frac{\\partial \\mathcal{L}^{(n)}}{\\partial b_j}$. The gradients for the biases $\\bb$ are given by:\n",
    "\n",
    "$\n",
    "\\frac{\\partial \\mathcal{L}^{(n)}}{\\partial b_j}\n",
    "= \\frac{\\partial \\mathcal{L}^{(n)}}{\\partial \\log q_j}\n",
    "\\frac{\\partial \\log q_j}{\\partial b_j}\n",
    "= \\delta^q_j\n",
    "\\cdot 1\n",
    "= \\delta^q_j\n",
    "$\n",
    "\n",
    "The equation above gives the derivative of $\\mathcal{L}^{(n)}$ w.r.t. a single element of $\\bb$, so the vector $\\nabla_\\bb \\mathcal{L}^{(n)}$ with all derivatives of $\\mathcal{L}^{(n)}$ w.r.t. the bias parameters $\\bb$ is: \n",
    "\n",
    "$\n",
    "\\nabla_\\bb \\mathcal{L}^{(n)} = \\mathbf{\\delta}^q\n",
    "$\n",
    "\n",
    "where $\\mathbf{\\delta}^q$ denotes the vector of size $10 \\times 1$ with elements $\\mathbf{\\delta}_j^q$.\n",
    "\n",
    "The (not fully developed) equation for computing the derivative of $\\mathcal{L}^{(n)}$ w.r.t. a single element $W_{ij}$ of $\\bW$ is:\n",
    "\n",
    "$\n",
    "\\frac{\\partial \\mathcal{L}^{(n)}}{\\partial W_{ij}} =\n",
    "\\frac{\\partial \\mathcal{L}^{(n)}}{\\partial \\log q_j}\n",
    "\\frac{\\partial \\log q_j}{\\partial W_{ij}}\n",
    "= \\mathbf{\\delta}_j^q\n",
    "\\frac{\\partial \\log q_j}{\\partial W_{ij}}\n",
    "$\n",
    "\n",
    "What is $\\frac{\\partial \\log q_j}{\\partial W_{ij}}$? Complete the equation above.\n",
    "\n",
    "If you want, you can give the resulting equation in vector format ($\\nabla_{\\bw_j} \\mathcal{L}^{(n)} = ...$), like we did for $\\nabla_\\bb \\mathcal{L}^{(n)}$."
   ]
  },
  {
   "cell_type": "markdown",
   "metadata": {
    "deletable": false,
    "nbgrader": {
     "checksum": "70fc98e5b227736e2bb92964a3c7174d",
     "grade": true,
     "grade_id": "cell-e40110444a1asdfasdfd3f",
     "locked": false,
     "points": 10,
     "schema_version": 1,
     "solution": true
    }
   },
   "source": [
    "YOUR ANSWER HERE\n",
    "\n",
    "\\begin{align}\n",
    "    \\frac{\\partial \\mathcal{L}^{(n)}}{\\partial W_{ij}} =\n",
    "    \\frac{\\partial \\mathcal{L}^{(n)}}{\\partial \\log q_j}\n",
    "    \\frac{\\partial \\log q_j}{\\partial W_{ij}}\n",
    "    = \\mathbf{\\delta}_j^q\n",
    "    \\frac{\\partial \\log q_j}{\\partial W_{ij}}\n",
    "    = \\mathbf{\\delta}_j^q\n",
    "    \\frac{\\partial ( \\mathbf{w}_j^T \\mathbf{x}^{(n)} + b_j )}{\\partial W_{ij}}\n",
    "    = \\mathbf{\\delta}_j^q\n",
    "    x_i^{(n)}\n",
    "\\end{align}\n",
    "\n",
    "\\begin{align}\n",
    "\\nabla_{\\bw_j} \\mathcal{L}^{(n)} = \\mathbf{\\delta}_j^q \\mathbf{x}^{(n)} \\\\\n",
    "\\nabla_{\\bW} \\mathcal{L}^{(n)} = \\mathbf{x}^{(n)} (\\mathbf{\\delta}^q)^T\n",
    "\\end{align}"
   ]
  },
  {
   "cell_type": "markdown",
   "metadata": {
    "deletable": false,
    "editable": false,
    "nbgrader": {
     "checksum": "7744e9051681182c7e1af0c515622fce",
     "grade": false,
     "grade_id": "cell-b0f28b0924b9983d",
     "locked": true,
     "schema_version": 1,
     "solution": false
    }
   },
   "source": [
    "### 1.1.2 Implement gradient computations (15 points)\n",
    "\n",
    "Implement the gradient calculations you derived in the previous question. Write a function `logreg_gradient(x, t, w, b)` that returns the gradients $\\nabla_{\\bw_j} \\mathcal{L}^{(n)}$ (for each $j$) and $\\nabla_{\\bb} \\mathcal{L}^{(n)}$, i.e. the first partial derivatives of the log-likelihood w.r.t. the parameters $\\bW$ and $\\bb$, evaluated at a single datapoint (`x`, `t`).\n",
    "The computation will contain roughly the following intermediate variables:\n",
    "\n",
    "$\n",
    "\\log \\bq \\rightarrow Z \\rightarrow \\log \\bp\\,,\\, \\mathbf{\\delta}^q\n",
    "$\n",
    "\n",
    "followed by computation of the gradient vectors $\\nabla_{\\bw_j} \\mathcal{L}^{(n)}$ (contained in a $784 \\times 10$ matrix) and $\\nabla_{\\bb} \\mathcal{L}^{(n)}$ (a $10 \\times 1$ vector).\n",
    "\n",
    "For maximum points, ensure the function is numerically stable.\n"
   ]
  },
  {
   "cell_type": "code",
   "execution_count": null,
   "metadata": {},
   "outputs": [],
   "source": [
    "DEBUG = False"
   ]
  },
  {
   "cell_type": "code",
   "execution_count": null,
   "metadata": {},
   "outputs": [],
   "source": [
    "# IMPORTANT! Do not call this with a batch of xs\n",
    "def get_log_q_and_log_Z(x, t, w, b):\n",
    "    log_q = x @ w + b\n",
    "    # log sum exp log_q = a + log sum exp (log_q - a)\n",
    "    a = np.max(log_q)\n",
    "    S = np.sum(np.exp(log_q - a))\n",
    "    log_Z = a + np.log(S)\n",
    "    log_p = log_q - log_Z\n",
    "    return log_q, log_Z"
   ]
  },
  {
   "cell_type": "code",
   "execution_count": null,
   "metadata": {
    "deletable": false,
    "nbgrader": {
     "checksum": "e0d41cbf33ddb93414c789220c024c45",
     "grade": false,
     "grade_id": "cell-6858f885be587480",
     "locked": false,
     "schema_version": 1,
     "solution": true
    }
   },
   "outputs": [],
   "source": [
    "# 1.1.2 Compute gradient of log p(t|x;w,b) wrt w and b\n",
    "def logreg_gradient(x, t, w, b):\n",
    "    log_q, log_Z = get_log_q_and_log_Z(x, t, w, b)\n",
    "    log_p = log_q - log_Z\n",
    "    select_t = np.zeros_like(log_q)\n",
    "    select_t[:, t] = 1\n",
    "    delta_q = - 1 / np.exp(log_Z) * np.exp(log_q) + select_t\n",
    "    \n",
    "    dL_db = delta_q\n",
    "    dL_dw = x.T @ delta_q\n",
    "    if DEBUG:\n",
    "        print(\"x.T.shape:\", x.T.shape)\n",
    "        print(\"delta_q.squeeze().shape:\", delta_q.squeeze().shape)\n",
    "        print(\"dL_db.shape:\", dL_db.shape)\n",
    "        print(\"dL_dw.shape:\", dL_dw.shape)\n",
    "    \n",
    "    # here the statement contains logp[:,t] where logp is meant tas a matrix of shape 1x10\n",
    "    \n",
    "    return log_p[:,t].squeeze(), dL_dw, dL_db.squeeze()\n"
   ]
  },
  {
   "cell_type": "code",
   "execution_count": null,
   "metadata": {},
   "outputs": [],
   "source": [
    "def logreg(x, t, w, b):\n",
    "    log_q, log_Z = get_log_q_and_log_Z(x, t, w, b)\n",
    "    return log_q - log_Z"
   ]
  },
  {
   "cell_type": "code",
   "execution_count": null,
   "metadata": {
    "deletable": false,
    "editable": false,
    "nbgrader": {
     "checksum": "a86683efa9cf9356b51f08cb6d2599b7",
     "grade": true,
     "grade_id": "cell-48057487182fe951",
     "locked": true,
     "points": 5,
     "schema_version": 1,
     "solution": false
    }
   },
   "outputs": [],
   "source": [
    "# Hidden tests for efficiency"
   ]
  },
  {
   "cell_type": "code",
   "execution_count": null,
   "metadata": {
    "deletable": false,
    "editable": false,
    "nbgrader": {
     "checksum": "281f0c66a2c9bfdf53c1995a852eea1f",
     "grade": true,
     "grade_id": "cell-1c9659f607b151a2",
     "locked": true,
     "points": 4,
     "schema_version": 1,
     "solution": false
    }
   },
   "outputs": [],
   "source": [
    "np.random.seed(123)\n",
    "# scalar, 10 X 768  matrix, 10 X 1 vector\n",
    "w = np.random.normal(size=(28*28,10), scale=0.001)\n",
    "# w = np.zeros((784,10))\n",
    "b = np.zeros((10,))\n",
    "\n",
    "# test gradients, train on 1 sample\n",
    "logpt, grad_w, grad_b = logreg_gradient(x_train[0:1,:], t_train[0:1], w, b)\n",
    "\n",
    "print(\"Test gradient on one point\")\n",
    "print(\"Log Likelihood:\\t\", logpt)\n",
    "print(\"\\nGrad_W_ij\\t\",grad_w.shape,\"matrix\")\n",
    "print(\"Grad_W_ij[0,152:158]=\\t\", grad_w[152:158,0])\n",
    "print(\"\\nGrad_B_i shape\\t\",grad_b.shape,\"vector\")\n",
    "print(\"Grad_B_i=\\t\", grad_b.T)\n",
    "print(\"i in {0,...,9}; j in M\")\n",
    "\n",
    "assert logpt.shape == (), logpt.shape\n",
    "assert grad_w.shape == (784, 10), grad_w.shape\n",
    "assert grad_b.shape == (10,), grad_b.shape\n",
    "\n",
    "\n"
   ]
  },
  {
   "cell_type": "code",
   "execution_count": null,
   "metadata": {
    "deletable": false,
    "editable": false,
    "nbgrader": {
     "checksum": "2ec5c9e0bdfc89e9d8e34971863dd612",
     "grade": true,
     "grade_id": "cell-fd59c3a03a87ab83",
     "locked": true,
     "points": 4,
     "schema_version": 1,
     "solution": false
    }
   },
   "outputs": [],
   "source": [
    "# It's always good to check your gradient implementations with finite difference checking:\n",
    "# Scipy provides the check_grad function, which requires flat input variables.\n",
    "# So we write two helper functions that provide the gradient and output with 'flat' weights:\n",
    "from scipy.optimize import check_grad\n",
    "\n",
    "np.random.seed(123)\n",
    "# scalar, 10 X 768  matrix, 10 X 1 vector\n",
    "w = np.random.normal(size=(28*28,10), scale=0.001)\n",
    "# w = np.zeros((784,10))\n",
    "b = np.zeros((10,))\n",
    "\n",
    "def func(w):\n",
    "    logpt, grad_w, grad_b = logreg_gradient(x_train[0:1,:], t_train[0:1], w.reshape(784,10), b)\n",
    "    return logpt\n",
    "def grad(w):\n",
    "    logpt, grad_w, grad_b = logreg_gradient(x_train[0:1,:], t_train[0:1], w.reshape(784,10), b)\n",
    "    return grad_w.flatten()\n",
    "finite_diff_error = check_grad(func, grad, w.flatten())\n",
    "print('Finite difference error grad_w:', finite_diff_error)\n",
    "assert finite_diff_error < 1e-3, 'Your gradient computation for w seems off'\n",
    "\n",
    "def func(b):\n",
    "    logpt, grad_w, grad_b = logreg_gradient(x_train[0:1,:], t_train[0:1], w, b)\n",
    "    return logpt\n",
    "def grad(b):\n",
    "    logpt, grad_w, grad_b = logreg_gradient(x_train[0:1,:], t_train[0:1], w, b)\n",
    "    return grad_b.flatten()\n",
    "finite_diff_error = check_grad(func, grad, b)\n",
    "print('Finite difference error grad_b:', finite_diff_error)\n",
    "assert finite_diff_error < 1e-3, 'Your gradient computation for b seems off'\n",
    "\n"
   ]
  },
  {
   "cell_type": "code",
   "execution_count": null,
   "metadata": {
    "deletable": false,
    "editable": false,
    "nbgrader": {
     "checksum": "4bb956f91b61cedbca19fe84c4b7fd44",
     "grade": true,
     "grade_id": "cell-91b8c5eb86f6a0f3",
     "locked": true,
     "points": 2,
     "schema_version": 1,
     "solution": false
    }
   },
   "outputs": [],
   "source": [
    "# DO NOT REMOVE THIS CELL!\n",
    "# It contains hidden tests\n"
   ]
  },
  {
   "cell_type": "markdown",
   "metadata": {
    "deletable": false,
    "editable": false,
    "nbgrader": {
     "checksum": "1f2bf7605bef859967bd38bb1c3c384c",
     "grade": false,
     "grade_id": "cell-bdce061b39aaacec",
     "locked": true,
     "schema_version": 1,
     "solution": false
    }
   },
   "source": [
    "\n",
    "### 1.1.3 Stochastic gradient descent (15 points)\n",
    "\n",
    "Write a function `sgd_iter(x_train, t_train, w, b)` that performs one iteration of stochastic gradient descent (SGD), and returns the new weights. It should go through the trainingset once in randomized order, call `logreg_gradient(x, t, w, b)` for each datapoint to get the gradients, and update the parameters **using a small learning rate of `1e-6`**. Note that in this case we're maximizing the likelihood function, so we should actually performing gradient ___ascent___... For more information about SGD, see Bishop 5.2.4 or an online source (i.e. https://en.wikipedia.org/wiki/Stochastic_gradient_descent)"
   ]
  },
  {
   "cell_type": "code",
   "execution_count": null,
   "metadata": {},
   "outputs": [],
   "source": [
    "def print_shapes(**kwargs):\n",
    "    for i, j in kwargs.items():\n",
    "        print(i, 'shape:', j.shape)"
   ]
  },
  {
   "cell_type": "code",
   "execution_count": null,
   "metadata": {},
   "outputs": [],
   "source": [
    "print_shapes(**dict(x_train=x_train, t_train=t_train, w=w, b=b))"
   ]
  },
  {
   "cell_type": "code",
   "execution_count": null,
   "metadata": {},
   "outputs": [],
   "source": [
    "log_likelihood_of_dataset(x_train, t_train, w, b, aggregate=False)"
   ]
  },
  {
   "cell_type": "code",
   "execution_count": null,
   "metadata": {
    "deletable": false,
    "nbgrader": {
     "checksum": "a1fd10093bd350a24e4a718bc0133738",
     "grade": true,
     "grade_id": "cell-86bf84658f1c5bc8",
     "locked": false,
     "points": 5,
     "schema_version": 1,
     "solution": true
    }
   },
   "outputs": [],
   "source": [
    "def sgd_iter(x_train, t_train, W, b):\n",
    "    lr = 1e-4\n",
    "    if DEBUG:\n",
    "        print_shapes(x_train, t_train, W, b)\n",
    "    \n",
    "    indices = np.arange(len(x_train))\n",
    "    np.random.shuffle(indices)\n",
    "    \n",
    "    log_p_train = 0\n",
    "    \n",
    "    for i in indices:\n",
    "        x = x_train[i:i+1, :]\n",
    "        t = t_train[i]\n",
    "        # TODO Ask Thomas if we should sum these log_ps, or recalculate the whole likelihood after a full epoch\n",
    "        log_p, dL_dW, dL_db = logreg_gradient(x, t, W, b)\n",
    "        log_p_train += log_p\n",
    "    \n",
    "        # TODO we are modifying the original here, should this be the case?\n",
    "        # Ascent, so using +\n",
    "        W += lr * dL_dW\n",
    "        b += lr * dL_db\n",
    "\n",
    "    return log_p_train, W, b"
   ]
  },
  {
   "cell_type": "code",
   "execution_count": null,
   "metadata": {
    "deletable": false,
    "editable": false,
    "nbgrader": {
     "checksum": "f9dc9179ce6db8ed7eba9ea02ed82723",
     "grade": true,
     "grade_id": "cell-0929d502114babdb",
     "locked": true,
     "points": 5,
     "schema_version": 1,
     "solution": false
    }
   },
   "outputs": [],
   "source": [
    "# Hidden tests for efficiency"
   ]
  },
  {
   "cell_type": "code",
   "execution_count": null,
   "metadata": {
    "deletable": false,
    "editable": false,
    "nbgrader": {
     "checksum": "0e5a417580d51fc1c3ef7519047eead4",
     "grade": true,
     "grade_id": "cell-2f7bbc264cc887a0",
     "locked": true,
     "points": 5,
     "schema_version": 1,
     "solution": false
    }
   },
   "outputs": [],
   "source": [
    "# Sanity check:\n",
    "np.random.seed(1243)\n",
    "w = np.zeros((28*28, 10))\n",
    "b = np.zeros(10)\n",
    "    \n",
    "logp_train, W, b = sgd_iter(x_train[:5], t_train[:5], w, b)\n",
    "\n",
    "\n"
   ]
  },
  {
   "cell_type": "markdown",
   "metadata": {
    "deletable": false,
    "editable": false,
    "nbgrader": {
     "checksum": "a60e2b48d4b187276ec9e8f8ef86a5f3",
     "grade": false,
     "grade_id": "cell-81634c804e1f93fc",
     "locked": true,
     "schema_version": 1,
     "solution": false
    }
   },
   "source": [
    "## 1.2. Train\n",
    "\n",
    "### 1.2.1 Train (12 points)\n",
    "Perform SGD on the training set. Plot (in one graph) the conditional log-probability of the training set and validation set after each iteration. (6 points)\n",
    "\n",
    "Instead of running SGD for a fixed number of steps, run it until convergence. Think of a reasonable criterion for determining convergence. As a reference: choose a criterion such that the algorithm terminates in less than 15 iterations over the training set. (2 points)\n",
    "\n",
    "Make sure your implementation (in particular, the output of the conditional log-probability of the training set and validation set) is independent of the size of the dataset. (2 points)"
   ]
  },
  {
   "cell_type": "code",
   "execution_count": null,
   "metadata": {},
   "outputs": [],
   "source": [
    "def stopping_criteria(valid_results_avg, eps=0.1):\n",
    "    return abs(valid_results_avg[-2]-valid_results_avg[-1]) < eps"
   ]
  },
  {
   "cell_type": "code",
   "execution_count": null,
   "metadata": {},
   "outputs": [],
   "source": [
    "def log_likelihood_of_dataset(X, t, W, b, aggregate=True):\n",
    "    log_q = X @ W + b\n",
    "    \n",
    "    # log sum exp log_q = a + log sum exp (log_q - a)\n",
    "    a = np.max(log_q, axis=1)\n",
    "    S = np.sum(np.exp(log_q - a[:, None]), axis=1)\n",
    "    log_Z = a + np.log(S)\n",
    "    log_p = log_q - log_Z[:, np.newaxis]\n",
    "    \n",
    "    if DEBUG:\n",
    "        print_shapes(**dict(log_q=log_q, a_np_newaxis=a[:, np.newaxis], S=S, log_Z=log_Z, log_p=log_p))\n",
    "    \n",
    "    #https://docs.scipy.org/doc/numpy/reference/arrays.indexing.html#advanced-indexing\n",
    "    x_idx = np.arange(log_p.shape[0])\n",
    "    \n",
    "    log_p_t = log_p[x_idx, t]\n",
    "    if aggregate:\n",
    "        return np.sum(log_p_t)\n",
    "    else:\n",
    "        return log_p_t"
   ]
  },
  {
   "cell_type": "code",
   "execution_count": null,
   "metadata": {},
   "outputs": [],
   "source": [
    "class Stats:\n",
    "    def __init__(self, train_size, valid_size, DEBUG=False):\n",
    "        self.DEBUG = DEBUG\n",
    "        self.train_size = train_size\n",
    "        self.valid_size = valid_size\n",
    "        \n",
    "        self.train_results = []\n",
    "        self.valid_results = []\n",
    "\n",
    "    def append(self, logp_train, logp_valid):\n",
    "        if self.DEBUG:\n",
    "            print(logp_train)\n",
    "            print(logp_valid)\n",
    "        self.train_results.append(logp_train)\n",
    "        self.valid_results.append(logp_valid)\n",
    "        \n",
    "    def stopping_criteria(self, eps):\n",
    "        try:\n",
    "            avg2 = self.valid_results[-2] / self.valid_size\n",
    "            avg1 = self.valid_results[-1] / self.valid_size\n",
    "            if self.DEBUG:\n",
    "                print('Criteria input:', abs(avg2 - avg1))\n",
    "            return abs(avg2 - avg1) < eps\n",
    "        except IndexError:\n",
    "            return False\n",
    "        \n",
    "    def get_avgs(self):\n",
    "        return np.array(self.train_results) / self.train_size, np.array(self.valid_results) / self.valid_size"
   ]
  },
  {
   "cell_type": "code",
   "execution_count": null,
   "metadata": {},
   "outputs": [],
   "source": [
    "stats = Stats(5, 5)\n",
    "stats.get_avgs()"
   ]
  },
  {
   "cell_type": "code",
   "execution_count": null,
   "metadata": {
    "deletable": false,
    "nbgrader": {
     "checksum": "221a9af93fcc6e5ab77fc26652c80a5f",
     "grade": true,
     "grade_id": "cell-20a347ba4db6e82c",
     "locked": false,
     "points": 10,
     "schema_version": 1,
     "solution": true
    },
    "scrolled": false
   },
   "outputs": [],
   "source": [
    "# This is really ugly, but I don't want to plot inside the function...\n",
    "# Also it only makes sense, if the test_sgd is really going to be called with\n",
    "stats = Stats(len(x_train), len(x_valid))\n",
    "def test_sgd(x_train, t_train, x_valid, t_valid, w, b):\n",
    "    # YOUR CODE HERE\n",
    "\n",
    "    count = 0\n",
    "    \n",
    "    # This is actually a do-while loop\n",
    "    while True:\n",
    "        print('Iteration count:', count); count+=1\n",
    "        logp_train, w, b = sgd_iter(x_train, t_train, w, b)\n",
    "        logp_valid = log_likelihood_of_dataset(x_valid, t_valid, w, b)\n",
    "        \n",
    "        stats.append(logp_train, logp_valid)\n",
    "            \n",
    "        if stats.stopping_criteria(eps=0.008):\n",
    "            break\n",
    "            \n",
    "    return w, b\n",
    "\n",
    "np.random.seed(1243)\n",
    "w = np.zeros((28*28, 10))\n",
    "b = np.zeros(10)\n",
    "w, b = test_sgd(x_train, t_train, x_valid, t_valid, w, b)"
   ]
  },
  {
   "cell_type": "code",
   "execution_count": null,
   "metadata": {},
   "outputs": [],
   "source": [
    "#%config InlineBackend.figure_format = 'png'\n",
    "#%config InlineBackend.figure_format = 'svg'"
   ]
  },
  {
   "cell_type": "code",
   "execution_count": null,
   "metadata": {},
   "outputs": [],
   "source": [
    "avg_train_log_p, avg_valid_log_p = stats.get_avgs()\n",
    "\n",
    "plt.figure(figsize=(8, 5))\n",
    "plt.title('Average conditional log-probabilities')\n",
    "plt.xlabel('iteration')\n",
    "plt.ylabel('conditional log-probability')\n",
    "plt.plot(avg_train_log_p, label='Train set')\n",
    "plt.plot(avg_valid_log_p, label='Validation set')\n",
    "plt.legend()\n",
    "plt.show()"
   ]
  },
  {
   "cell_type": "code",
   "execution_count": null,
   "metadata": {
    "deletable": false,
    "editable": false,
    "nbgrader": {
     "checksum": "0d46a6466493fa88818a210decebf40a",
     "grade": true,
     "grade_id": "cell-b290fe89d0aa4ffb",
     "locked": true,
     "points": 2,
     "schema_version": 1,
     "solution": false
    }
   },
   "outputs": [],
   "source": [
    "# Hidden tests for efficiency"
   ]
  },
  {
   "cell_type": "markdown",
   "metadata": {
    "deletable": false,
    "editable": false,
    "nbgrader": {
     "checksum": "a6d85bbd97cad35d524b65b23f64e75f",
     "grade": false,
     "grade_id": "cell-cf7f3da57d19493a",
     "locked": true,
     "schema_version": 1,
     "solution": false
    }
   },
   "source": [
    "### 1.2.2 Visualize weights (10 points)\n",
    "Visualize the resulting parameters $\\bW$ after a few iterations through the training set, by treating each column of $\\bW$ as an image. If you want, you can use or edit the `plot_digits(...)` above.\n"
   ]
  },
  {
   "cell_type": "code",
   "execution_count": null,
   "metadata": {
    "deletable": false,
    "nbgrader": {
     "checksum": "4e554436500eebe1527a31039570a264",
     "grade": true,
     "grade_id": "cell-b10656f35fac065e",
     "locked": false,
     "points": 5,
     "schema_version": 1,
     "solution": true
    }
   },
   "outputs": [],
   "source": [
    "# YOUR CODE HERE\n",
    "plt.figure(figsize=(16,5))\n",
    "plot_digits_with_cmap(w.T, 5, targets=np.arange(10), cmap='afmhot')\n",
    "#plot_digits_with_cmap(w.T, 5, cmap='viridis')\n",
    "#plot_digits_with_cmap(w.T, 5, cmap='ocean')\n",
    "#plot_digits_with_cmap(w.T, 5, np.arange(10), cmap='jet')"
   ]
  },
  {
   "cell_type": "markdown",
   "metadata": {
    "deletable": false,
    "nbgrader": {
     "checksum": "de187afcf5ae1e34b80bc10610760e7a",
     "grade": true,
     "grade_id": "cell-eb131c8b7303da38",
     "locked": false,
     "points": 5,
     "schema_version": 1,
     "solution": true
    }
   },
   "source": [
    "**Describe in less than 100 words why these weights minimize the loss**\n",
    "YOUR ANSWER HERE\n",
    "The visualizations of the weights clearly resemble the actual numbers, that the weights belong to. This means, that the log probability of a class given an input image is going to be the highest, when the input image and the weight have high values on the same pixel-positions."
   ]
  },
  {
   "cell_type": "markdown",
   "metadata": {
    "deletable": false,
    "editable": false,
    "nbgrader": {
     "checksum": "7a6a97ce145be9d58d5cf190e49da491",
     "grade": false,
     "grade_id": "cell-f36d974d9ef34c97",
     "locked": true,
     "schema_version": 1,
     "solution": false
    }
   },
   "source": [
    "### 1.2.3. Visualize the 8 hardest and 8 easiest digits (10 points)\n",
    "Visualize the 8 digits in the validation set with the highest probability of the true class label under the model.\n",
    "Also plot the 8 digits that were assigned the lowest probability.\n"
   ]
  },
  {
   "cell_type": "code",
   "execution_count": null,
   "metadata": {},
   "outputs": [],
   "source": [
    "def get_n_most_likely(x_valid, t_valid, w, b, n=-8):\n",
    "    '''\n",
    "    If n is negative, this will get the n most likely,\n",
    "    if n is positive, it will get the n least likely images (hardest to recognize)\n",
    "    '''\n",
    "    logp_valid = log_likelihood_of_dataset(x_valid, t_valid, w, b, aggregate=False)\n",
    "    \n",
    "    if n < 0:\n",
    "        highest_indices = np.argpartition(logp_valid, n)[n:]\n",
    "    else:\n",
    "        highest_indices = np.argpartition(logp_valid, n)[:n]\n",
    "\n",
    "    highest_logp = logp_valid[highest_indices]\n",
    "\n",
    "    easiest_imgs, easiest_targets = x_valid[highest_indices], t_valid[highest_indices]\n",
    "\n",
    "    sorted_indices = np.argsort(highest_logp)\n",
    "    sorted_imgs, sorted_targets = easiest_imgs[sorted_indices], easiest_targets[sorted_indices]\n",
    "\n",
    "    return sorted_imgs, sorted_targets"
   ]
  },
  {
   "cell_type": "code",
   "execution_count": null,
   "metadata": {
    "deletable": false,
    "nbgrader": {
     "checksum": "4f212e606b9d9d7fd4ae403d643dacfd",
     "grade": true,
     "grade_id": "cell-3802d61680deeff5",
     "locked": false,
     "points": 5,
     "schema_version": 1,
     "solution": true
    }
   },
   "outputs": [],
   "source": [
    "# YOUR CODE HERE\n",
    "easy_sorted_imgs, easy_sorted_targets = get_n_most_likely(x_valid, t_valid, w, b, n=-8)\n",
    "\n",
    "plt.figure(figsize(12,5))\n",
    "\n",
    "plot_digits_with_cmap(easy_sorted_imgs, 4, targets=easy_sorted_targets, cmap='afmhot', title='Easiest to recognize images')\n",
    "plt.show()\n",
    "\n",
    "hard_sorted_imgs, hard_sorted_targets = get_n_most_likely(x_valid, t_valid, w, b, n=8)\n",
    "\n",
    "plt.figure(figsize(12,5))\n",
    "plot_digits_with_cmap(hard_sorted_imgs, 4, targets=hard_sorted_targets, cmap='afmhot', title='Hardest to recognize images')\n",
    "plt.show()\n",
    "\n"
   ]
  },
  {
   "cell_type": "code",
   "execution_count": null,
   "metadata": {},
   "outputs": [],
   "source": [
    "true_weights = w[:, easy_sorted_targets]\n",
    "\n",
    "result = easy_sorted_imgs.T * true_weights\n",
    "\n",
    "plt.figure(figsize(12,5))\n",
    "plot_digits_with_cmap(result.T, 4, targets=easy_sorted_targets, cmap='afmhot', title='Elementwise multiplication of true weights and image')\n",
    "plt.show()\n",
    "\n",
    "\n",
    "true_weights = w[:, hard_sorted_targets]\n",
    "\n",
    "result = hard_sorted_imgs.T * true_weights\n",
    "\n",
    "plt.figure(figsize(12,5))\n",
    "plot_digits_with_cmap(result.T, 4, targets=hard_sorted_targets, cmap='afmhot')\n",
    "plt.show()\n"
   ]
  },
  {
   "cell_type": "markdown",
   "metadata": {
    "deletable": false,
    "nbgrader": {
     "checksum": "642d43cd6542e6cf49779799becbd435",
     "grade": true,
     "grade_id": "cell-6564a51fdda06d95",
     "locked": false,
     "points": 5,
     "schema_version": 1,
     "solution": true
    }
   },
   "source": [
    "Ask yourself if these results make sense. Explain in no more then two sentences what it means that a digit is hard to classify.\n",
    "\n",
    "YOUR ANSWER HERE"
   ]
  },
  {
   "cell_type": "markdown",
   "metadata": {
    "deletable": false,
    "editable": false,
    "nbgrader": {
     "checksum": "21418c6f8f5a8b5bd54c2b6fd655ec90",
     "grade": false,
     "grade_id": "cell-2c525344c99e5b26",
     "locked": true,
     "schema_version": 1,
     "solution": false
    }
   },
   "source": [
    "# Part 2. Multilayer perceptron\n",
    "\n",
    "\n",
    "You discover that the predictions by the logistic regression classifier are not good enough for your application: the model is too simple. You want to increase the accuracy of your predictions by using a better model. For this purpose, you're going to use a multilayer perceptron (MLP), a simple kind of neural network. The perceptron will have a single hidden layer $\\bh$ with $L$ elements. The parameters of the model are $\\bV$ (connections between input $\\bx$ and hidden layer $\\bh$), $\\ba$ (the biases/intercepts of $\\bh$), $\\bW$ (connections between $\\bh$ and $\\log q$) and $\\bb$ (the biases/intercepts of $\\log q$).\n",
    "\n",
    "The conditional probability of the class label $j$ is given by:\n",
    "\n",
    "$\\log p(t = j \\;|\\; \\bx, \\bb, \\bW) = \\log q_j - \\log Z$\n",
    "\n",
    "where $q_j$ are again the unnormalized probabilities per class, and $Z = \\sum_j q_j$ is again the probability normalizing factor. Each $q_j$ is computed using:\n",
    "\n",
    "$\\log q_j = \\bw_j^T \\bh + b_j$\n",
    "\n",
    "where $\\bh$ is a $L \\times 1$ vector with the hidden layer activations (of a hidden layer with size $L$), and $\\bw_j$ is the $j$-th column of $\\bW$ (a $L \\times 10$ matrix). Each element of the hidden layer is computed from the input vector $\\bx$ using:\n",
    "\n",
    "$h_j = \\sigma(\\bv_j^T \\bx + a_j)$\n",
    "\n",
    "where $\\bv_j$ is the $j$-th column of $\\bV$ (a $784 \\times L$ matrix), $a_j$ is the $j$-th element of $\\ba$, and $\\sigma(.)$ is the so-called sigmoid activation function, defined by:\n",
    "\n",
    "$\\sigma(x) = \\frac{1}{1 + \\exp(-x)}$\n",
    "\n",
    "Note that this model is almost equal to the multiclass logistic regression model, but with an extra 'hidden layer' $\\bh$. The activations of this hidden layer can be viewed as features computed from the input, where the feature transformation ($\\bV$ and $\\ba$) is learned.\n",
    "\n",
    "## 2.1 Derive gradient equations (20 points)\n",
    "\n",
    "State (shortly) why $\\nabla_{\\bb} \\mathcal{L}^{(n)}$ is equal to the earlier (multiclass logistic regression) case, and why $\\nabla_{\\bw_j} \\mathcal{L}^{(n)}$ is almost equal to the earlier case.\n",
    "\n",
    "Like in multiclass logistic regression, you should use intermediate variables $\\mathbf{\\delta}_j^q$. In addition, you should use intermediate variables $\\mathbf{\\delta}_j^h = \\frac{\\partial \\mathcal{L}^{(n)}}{\\partial h_j}$.\n",
    "\n",
    "Given an input image, roughly the following intermediate variables should be computed:\n",
    "\n",
    "$\n",
    "\\log \\bq \\rightarrow Z \\rightarrow \\log \\bp \\rightarrow \\mathbf{\\delta}^q \\rightarrow \\mathbf{\\delta}^h\n",
    "$\n",
    "\n",
    "where $\\mathbf{\\delta}_j^h = \\frac{\\partial \\mathcal{L}^{(n)}}{\\partial \\bh_j}$.\n",
    "\n",
    "Give the equations for computing $\\mathbf{\\delta}^h$, and for computing the derivatives of $\\mathcal{L}^{(n)}$ w.r.t. $\\bW$, $\\bb$, $\\bV$ and $\\ba$. \n",
    "\n",
    "You can use the convenient fact that $\\frac{\\partial}{\\partial x} \\sigma(x) = \\sigma(x) (1 - \\sigma(x))$."
   ]
  },
  {
   "cell_type": "markdown",
   "metadata": {
    "deletable": false,
    "nbgrader": {
     "checksum": "bb7ce29f01484f94a6357784ddaf6412",
     "grade": true,
     "grade_id": "cell-48f48bb8ec75cc3c",
     "locked": false,
     "points": 20,
     "schema_version": 1,
     "solution": true
    }
   },
   "source": [
    "We can consider the output layer as the same multiclass logistic regression seen before. The difference from this layer's point of view is only the input: $\\bh$ (the feature-vector, that is learned by the hidden layer). \n",
    "\n",
    "$\\nabla_{\\bb} \\mathcal{L}^{(n)}$: As this gradient didn't (directly) depend on the input (only through $\\mathbf{\\delta}^q$), we can use the same formula here.\n",
    "\n",
    "$\\nabla_{\\bw_j} \\mathcal{L}^{(n)}$: Similarly, this gradient depended only on $\\mathbf{\\delta}^q$ and the input, so we can get our new formula by replacing the previous input with the current one.\n",
    "\n",
    "\n",
    "Let $\\bm = \\bV^T \\bx + \\ba$, and $m_j = \\bv_j^T \\bx + a_j$, where $\\bv_j$ is the $\\text{j}^{\\text{th}}$ column of $\\bV$.\n",
    "\n",
    "\n",
    "\\begin{align}\n",
    "\\frac{\\partial \\log q_k}{\\partial h_j} &= \\frac{\\partial \\bw_k^T \\bh}{\\partial h_j} = W_{jk} \\\\\n",
    "\\delta^h_j = \\frac{\\partial \\mathcal{L}^{(n)}}{\\partial h_j} = \\sum_k \\frac{\\partial \\mathcal{L}^{(n)}}{\\partial \\log q_k} \\frac{\\partial \\log q_k}{\\partial h_j} &= \\sum_k \\delta^q_k W_{jk} \\\\\n",
    "\\end{align}\n",
    "\n",
    "\\begin{align}\n",
    "\\delta^m_j = \\frac{\\partial \\mathcal{L}^{(n)}}{\\partial m_j} = \\sum_k \\frac{\\partial \\mathcal{L}^{(n)}}{\\partial h_k} \\frac{\\partial h_k}{\\partial m_j} = \\sum_k \\delta^h_k \\frac{\\partial \\sigma(m_k)}{\\partial m_j} = \\delta^h_j \\frac{\\partial \\sigma(m_j)}{\\partial m_j} = \\delta^h_j \\sigma(m_j)(1-\\sigma(m_j))\\\\\n",
    "\\nabla_{V_{ij}} \\mathcal{L}^{(n)} = \\sum_k \\delta^m_k \\frac{\\partial m_k}{\\partial V_{ij}} = \\sum_k \\delta^m_k \\frac{\\partial \\bv_k^T \\bx}{\\partial V_{ij}} = \\delta^m_j \\frac{\\partial \\bv_j^T \\bx}{\\partial V_{ij}} = \\delta^m_j x_i\n",
    "\\end{align}\n",
    "\n",
    "\n",
    "\\begin{align}\n",
    "\\nabla_{\\bb} \\mathcal{L}^{(n)} &= \\mathbf{\\delta}^q \\\\\n",
    "\\nabla_{\\bw_j} \\mathcal{L}^{(n)} &= \\mathbf{\\delta}^q_j \\bh^{(n)} \\\\\n",
    "\\nabla_{\\bW} \\mathcal{L}^{(n)} &= \\bh^{(n)} (\\mathbf{\\delta}^q)^T \\\\\n",
    "\\nabla_{V_{ij}} \\mathcal{L}^{(n)} &= \\delta^m_j x_i \\\\\n",
    "\\nabla_{\\bv_j} \\mathcal{L}^{(n)} &= \\mathbf{\\delta}^m_j \\bx^{(n)} \\\\\n",
    "\\nabla_{V} \\mathcal{L}^{(n)} &= \\bx (\\delta^m)^T \\\\\n",
    "\\nabla_{a_i} \\mathcal{L}^{(n)} &= \\delta^m_j \\\\\n",
    "\\nabla_{\\ba} \\mathcal{L}^{(n)} &= \\mathbf{\\delta}^m\n",
    "\\end{align}"
   ]
  },
  {
   "cell_type": "markdown",
   "metadata": {
    "deletable": false,
    "editable": false,
    "nbgrader": {
     "checksum": "cfcfec5959134f7f3fca2ba585a94fba",
     "grade": false,
     "grade_id": "cell-0bff945081e993fc",
     "locked": true,
     "schema_version": 1,
     "solution": false
    }
   },
   "source": [
    "## 2.2 MAP optimization (10 points)\n",
    "\n",
    "You derived equations for finding the _maximum likelihood_ solution of the parameters. Explain, in a few sentences, how you could extend this approach so that it optimizes towards a _maximum a posteriori_ (MAP) solution of the parameters, with a Gaussian prior on the parameters. "
   ]
  },
  {
   "cell_type": "markdown",
   "metadata": {
    "deletable": false,
    "nbgrader": {
     "checksum": "49d6376929b1cdf60a9ca9282512f1b4",
     "grade": true,
     "grade_id": "cell-1daef2744c010b73",
     "locked": false,
     "points": 10,
     "schema_version": 1,
     "solution": true
    }
   },
   "source": [
    "YOUR ANSWER HERE\n",
    "\n",
    "TODO"
   ]
  },
  {
   "cell_type": "markdown",
   "metadata": {
    "deletable": false,
    "editable": false,
    "nbgrader": {
     "checksum": "c7e27334475d494b296af3afdf6bfcb4",
     "grade": false,
     "grade_id": "cell-2e56d8a567e2fb08",
     "locked": true,
     "schema_version": 1,
     "solution": false
    }
   },
   "source": [
    "## 2.3. Implement and train a MLP (15 points)\n",
    "\n",
    "Implement an MLP model with a single hidden layer of **20 neurons**. \n",
    "Train the model for **10 epochs**.\n",
    "Test your implementation for learning rates of 1e-2, 1e-3 and 1e-4 and plot (in one graph) the conditional log-probability of the trainingset and validation set. \n",
    "\n",
    "For the best model plot the weights of the first layer for in epoch 0,4 and 9. \n",
    "\n",
    "\n",
    "- 10 points: Working MLP that learns with plots\n",
    "- +5 points: Fast, numerically stable, vectorized implementation"
   ]
  },
  {
   "cell_type": "code",
   "execution_count": null,
   "metadata": {},
   "outputs": [],
   "source": [
    "class Sigmoid:\n",
    "    def __call__(self, x):\n",
    "        self.x = x\n",
    "        return 1.0 / (1.0 + np.exp(-x))\n",
    "    \n",
    "    def backward(self, delta):\n",
    "        return delta * self(self.x)*(1-self(self.x))\n"
   ]
  },
  {
   "cell_type": "code",
   "execution_count": null,
   "metadata": {},
   "outputs": [],
   "source": [
    "class Softmax:    \n",
    "    def __call__(self, log_q):        \n",
    "        a = np.max(log_q, axis=1, keepdims=True)\n",
    "        S = np.sum(np.exp(log_q - a), axis=1, keepdims=True)\n",
    "        log_Z = a + np.log(S)\n",
    "        \n",
    "        if DEBUG:\n",
    "            print_shapes(**dict(log_q=log_q, a=a, S=S, logz=logz))\n",
    "            \n",
    "        log_p = log_q - log_Z\n",
    "        self.log_q, self.log_p, self.log_Z = log_q, log_p, log_Z\n",
    "        \n",
    "        return log_p\n",
    "    \n",
    "    def backward(self, t):\n",
    "        log_p, log_q, log_Z = self.log_p, self.log_q, self.log_Z\n",
    "        select_t = np.zeros_like(log_q)\n",
    "        select_t[:,t] = 1\n",
    "        delta_q = - 1 / np.exp(log_Z) * np.exp(log_q) + select_t\n",
    "\n",
    "        return -delta_q\n"
   ]
  },
  {
   "cell_type": "code",
   "execution_count": null,
   "metadata": {},
   "outputs": [],
   "source": [
    "class Linear:\n",
    "    def __init__(self, input_dim, out_dim):\n",
    "        # Bias is incorporated\n",
    "        self.w = np.random.normal(size=(input_dim + 1, out_dim))\n",
    "        self.grad_w = np.zeros(self.w.shape)\n",
    "    \n",
    "    def prepend_bias_feature(self, x):\n",
    "        shape = list(x.shape)\n",
    "        shape[1] += 1\n",
    "        y = np.zeros(shape)\n",
    "        y[:, 0] = 1\n",
    "        y[:, 1:] = x\n",
    "        return y\n",
    "    \n",
    "    def __call__(self, x):\n",
    "        x = self.prepend_bias_feature(x)\n",
    "        m = x @ self.w\n",
    "        \n",
    "        self.x = x\n",
    "        return m\n",
    "    \n",
    "    def backward(self, delta_q):        \n",
    "        self.grad_w[:] = self.x.T @ delta_q\n",
    "        \n",
    "        grad_x = delta_q @ self.w.T\n",
    "        if DEBUG:\n",
    "            print_shapes(**dict(self_w_T=self.w.T, delta_q=delta_q, grad_x=grad_x))\n",
    "\n",
    "        # Without the bias term\n",
    "        return grad_x[:, 1:]\n",
    "    \n",
    "    def step(self, lr):\n",
    "        self.w -= lr * self.grad_w\n"
   ]
  },
  {
   "cell_type": "code",
   "execution_count": null,
   "metadata": {
    "deletable": false,
    "nbgrader": {
     "checksum": "bca5a8a86e2d27a1c43d84fd9105421d",
     "grade": true,
     "grade_id": "cell-5d1924ace9e216e2",
     "locked": false,
     "points": 0,
     "schema_version": 1,
     "solution": true
    }
   },
   "outputs": [],
   "source": [
    "# Write all helper functions here\n",
    "class MLP:\n",
    "    def __init__(self, input_size=28*28, hidden_layer_size=20, output_size=10):\n",
    "        self.input_size = input_size\n",
    "        self.hidden_layer_size = hidden_layer_size\n",
    "        \n",
    "        # bias is incorporated into the weight matrix\n",
    "        self.V = Linear(input_size, hidden_layer_size)\n",
    "        self.activation1 = Sigmoid()\n",
    "        self.W = Linear(hidden_layer_size, output_size)\n",
    "        self.activation2 = Softmax()\n",
    "        \n",
    "    def forward(self, x):\n",
    "        m = self.V(x)\n",
    "        h = self.activation1(m)\n",
    "        log_q = self.W(h)\n",
    "        log_p = self.activation2(log_q)\n",
    "\n",
    "        return log_p\n",
    "        \n",
    "    def backward(self, t):\n",
    "        delta = self.activation2.backward(t)\n",
    "        delta = self.W.backward(delta)\n",
    "        delta = self.activation1.backward(delta)\n",
    "        delta = self.V.backward(delta)\n",
    "        \n",
    "        return delta\n",
    "    \n",
    "    def step(self, lr):\n",
    "        self.W.step(lr)\n",
    "        self.V.step(lr)\n"
   ]
  },
  {
   "cell_type": "code",
   "execution_count": null,
   "metadata": {},
   "outputs": [],
   "source": [
    "class SGD:\n",
    "    def __init__(self, mlp, lr):\n",
    "        self.mlp = mlp\n",
    "        self.lr = lr\n",
    "        \n",
    "    def sgd_iter(self, x_train, t_train):\n",
    "        assert len(x_train) == len(t_train), 'The number of inputs and targets are not the same'\n",
    "        \n",
    "        indices = np.arange(len(x_train))\n",
    "        np.random.shuffle(indices)\n",
    "        \n",
    "        log_p_train = 0\n",
    "        \n",
    "        for i in indices:\n",
    "            x = x_train[i:i+1, :]\n",
    "            t = t_train[i]\n",
    "\n",
    "            log_p = self.mlp.forward(x)\n",
    "            log_p_train += log_p.squeeze()[t]\n",
    "            \n",
    "            self.mlp.backward(t)\n",
    "            self.mlp.step(self.lr)\n",
    "            \n",
    "        return log_p_train\n",
    "    \n",
    "    def sgd_eval(self, x_valid, t_valid):\n",
    "        assert len(x_valid) == len(t_valid), 'The number of inputs and targets are not the same'\n",
    "        \n",
    "        logp = self.mlp.forward(x_valid)\n",
    "        x_idx = np.arange(len(logp))\n",
    "        \n",
    "        log_likelihoods = logp[x_idx, t_valid]\n",
    "        return np.sum(log_likelihoods)\n",
    "        "
   ]
  },
  {
   "cell_type": "code",
   "execution_count": null,
   "metadata": {},
   "outputs": [],
   "source": [
    "from contextlib import contextmanager\n",
    "\n",
    "@contextmanager\n",
    "def manually_stoppable_block():\n",
    "    try:\n",
    "        yield\n",
    "    except KeyboardInterrupt:\n",
    "        print('Block was stopped manually')\n"
   ]
  },
  {
   "cell_type": "code",
   "execution_count": null,
   "metadata": {},
   "outputs": [],
   "source": [
    "def test_mlp(sgd, x_train, t_train, x_valid, t_valid, epochs=10, checkpointer=lambda w, idx: None, DEBUG=False):\n",
    "    stats = Stats(len(x_train), len(x_valid), DEBUG=DEBUG)\n",
    "\n",
    "    stats.append(sgd.sgd_eval(x_train, t_train), sgd.sgd_eval(x_valid, t_valid))\n",
    "    \n",
    "    with manually_stoppable_block():\n",
    "        for e in range(epochs):\n",
    "            print('Iteration count:', e)\n",
    "            checkpointer(sgd.mlp.V.w, e)\n",
    "            logp_train = sgd.sgd_iter(x_train, t_train)\n",
    "            logp_valid = sgd.sgd_eval(x_valid, t_valid)\n",
    "            stats.append(logp_train, logp_valid)\n",
    "            \n",
    "    return stats"
   ]
  },
  {
   "cell_type": "code",
   "execution_count": null,
   "metadata": {},
   "outputs": [],
   "source": [
    "class WeightSaver:\n",
    "    def __init__(self, at_timesteps):\n",
    "        self.at_timesteps = at_timesteps\n",
    "        self.chkpts = []\n",
    "        \n",
    "    def __call__(self, w, idx):\n",
    "        if idx in self.at_timesteps:\n",
    "            print('Saving weights at timestep', idx)\n",
    "            self.chkpts.append(w.copy())"
   ]
  },
  {
   "cell_type": "code",
   "execution_count": null,
   "metadata": {
    "deletable": false,
    "editable": false,
    "nbgrader": {
     "checksum": "c73a8145fa846d154551bd6d85908790",
     "grade": true,
     "grade_id": "cell-94b75f65d3038a67",
     "locked": true,
     "points": 5,
     "schema_version": 1,
     "solution": false
    }
   },
   "outputs": [],
   "source": [
    "# Hidden tests for efficiency"
   ]
  },
  {
   "cell_type": "code",
   "execution_count": null,
   "metadata": {},
   "outputs": [],
   "source": [
    "from collections import namedtuple\n",
    "TrainConfig = namedtuple(\"TrainConfig\", [\"lr\", \"mlp\", \"sgd\", \"weights\", \"stats\"])"
   ]
  },
  {
   "cell_type": "code",
   "execution_count": null,
   "metadata": {
    "cell_style": "center",
    "deletable": false,
    "nbgrader": {
     "checksum": "f3be36f9cf960203b49603b3719b8a4d",
     "grade": true,
     "grade_id": "cell-e9b2125a5ea8a22c",
     "locked": false,
     "points": 10,
     "schema_version": 1,
     "solution": true
    }
   },
   "outputs": [],
   "source": [
    "# Write training code here:\n",
    "# Training code\n",
    "train_configs = []\n",
    "lrs = [1e-2, 1e-3, 1e-4]\n",
    "for lr in lrs:\n",
    "    print('lr:', lr)\n",
    "    mlp = MLP()\n",
    "    sgd = SGD(mlp, lr=lr)\n",
    "    weights = WeightSaver([0, 4, 9])\n",
    "    stats = test_mlp(sgd, x_train, t_train, x_valid, t_valid, checkpointer=weights)\n",
    "    train_configs.append(TrainConfig(lr=lr, mlp=mlp, sgd=sgd, weights=weights, stats=stats))\n",
    "\n",
    "# Plot the conditional loglikelihoods for the train and validation dataset after every iteration.\n",
    "# See below\n"
   ]
  },
  {
   "cell_type": "markdown",
   "metadata": {},
   "source": [
    "import pickle"
   ]
  },
  {
   "cell_type": "code",
   "execution_count": null,
   "metadata": {},
   "outputs": [],
   "source": [
    "with open('train_configs.p', 'wb') as f:\n",
    "    pickle.dump(train_configs, f, )"
   ]
  },
  {
   "cell_type": "markdown",
   "metadata": {},
   "source": [
    "with open('train_configs.p', 'rb') as f:\n",
    "    train_configs = pickle.load(f)"
   ]
  },
  {
   "cell_type": "code",
   "execution_count": null,
   "metadata": {
    "deletable": false,
    "nbgrader": {
     "checksum": "9e9550447ee575c602a21489ce8534bb",
     "grade": true,
     "grade_id": "cell-b90dafbb9f41c1ed",
     "locked": false,
     "points": 0,
     "schema_version": 1,
     "solution": true
    }
   },
   "outputs": [],
   "source": [
    "# plot the train and validation logp for all three learning rates in one figure\n",
    "# YOUR CODE HERE\n",
    "for config in train_configs:\n",
    "    train_avgs, valid_avgs = config.stats.get_avgs()\n",
    "    #train_avgs, valid_avgs = config.stats.train_results, config.stats.valid_results\n",
    "    plt.plot(train_avgs, label='lr={}, train '.format(config.lr))\n",
    "    plt.plot(valid_avgs, label='lr={}, validation'.format(config.lr))\n",
    "    \n",
    "plt.xlabel('epoch')\n",
    "plt.ylabel('avg log likelihood')\n",
    "plt.legend()\n",
    "plt.title('Average conditional log-likelihoods during training')\n",
    "\n",
    "plt.show()\n",
    "    "
   ]
  },
  {
   "cell_type": "code",
   "execution_count": null,
   "metadata": {},
   "outputs": [],
   "source": []
  },
  {
   "cell_type": "code",
   "execution_count": null,
   "metadata": {},
   "outputs": [],
   "source": [
    "# Plot the weights of the first layer.\n",
    "# YOUR CODE HERE\n",
    "plt.figure(figsize=(10, 10))\n",
    "plot_digits_with_cmap(train_configs[0].mlp.V.w[1:].T, 4, cmap='afmhot')\n"
   ]
  },
  {
   "cell_type": "markdown",
   "metadata": {
    "deletable": false,
    "editable": false,
    "nbgrader": {
     "checksum": "046552f90febc455e5c56d6bb68b8849",
     "grade": false,
     "grade_id": "cell-5b926040b792b57a",
     "locked": true,
     "schema_version": 1,
     "solution": false
    }
   },
   "source": [
    "### 2.3.1. Explain the learning curves (5 points)\n",
    "In less than 80 words, explain the observed behaviour for the different learning rates."
   ]
  },
  {
   "cell_type": "markdown",
   "metadata": {
    "deletable": false,
    "nbgrader": {
     "checksum": "ca72ec2f983a4d7ca6083fffbf5f6063",
     "grade": true,
     "grade_id": "cell-8858cbe0e4dd02c7",
     "locked": false,
     "points": 5,
     "schema_version": 1,
     "solution": true
    }
   },
   "source": [
    "YOUR ANSWER HERE\n",
    "\n",
    "TODO"
   ]
  },
  {
   "cell_type": "markdown",
   "metadata": {
    "deletable": false,
    "editable": false,
    "nbgrader": {
     "checksum": "a03d026530585bc63f3cad6534b75f1b",
     "grade": false,
     "grade_id": "cell-6ae8cb5a4c246b97",
     "locked": true,
     "schema_version": 1,
     "solution": false
    }
   },
   "source": [
    "### 2.3.2. Explain the weights (5 points)\n",
    "In less than 80 words, explain how and why the weights of the hidden layer of the MLP differ from the logistic regression model, and relate this to the stronger performance of the MLP."
   ]
  },
  {
   "cell_type": "code",
   "execution_count": null,
   "metadata": {},
   "outputs": [],
   "source": [
    "w = train_configs[0].weights"
   ]
  },
  {
   "cell_type": "code",
   "execution_count": null,
   "metadata": {},
   "outputs": [],
   "source": [
    "w.chkpts[0].shape"
   ]
  },
  {
   "cell_type": "code",
   "execution_count": null,
   "metadata": {},
   "outputs": [],
   "source": [
    "47100 / 784"
   ]
  },
  {
   "cell_type": "code",
   "execution_count": null,
   "metadata": {},
   "outputs": [],
   "source": [
    "W = np.stack(w.chkpts, axis=-1)"
   ]
  },
  {
   "cell_type": "code",
   "execution_count": null,
   "metadata": {},
   "outputs": [],
   "source": [
    "W[1:, :].shape"
   ]
  },
  {
   "cell_type": "code",
   "execution_count": null,
   "metadata": {},
   "outputs": [],
   "source": [
    "W_p = W[1:, :].reshape(784, -1)"
   ]
  },
  {
   "cell_type": "code",
   "execution_count": null,
   "metadata": {
    "deletable": false,
    "nbgrader": {
     "checksum": "8f24e3bf890299503af4561915a23915",
     "grade": true,
     "grade_id": "cell-69b3830258566c6d",
     "locked": false,
     "points": 0,
     "schema_version": 1,
     "solution": true
    },
    "scrolled": false
   },
   "outputs": [],
   "source": [
    "# Plot the weights of the first layer for the best model \n",
    "\n",
    "# YOUR CODE HERE\n",
    "plt.figure(figsize=(8, 40))\n",
    "plot_digits_with_cmap(W_p.T, 3, cmap='afmhot')\n"
   ]
  },
  {
   "cell_type": "markdown",
   "metadata": {
    "deletable": false,
    "nbgrader": {
     "checksum": "7f6cbf48a398f8722f4d403b957b2075",
     "grade": true,
     "grade_id": "cell-c4fdc27b1aab6828",
     "locked": false,
     "points": 5,
     "schema_version": 1,
     "solution": true
    }
   },
   "source": [
    "YOUR ANSWER HERE\n",
    "\n",
    "TODO"
   ]
  },
  {
   "cell_type": "code",
   "execution_count": null,
   "metadata": {
    "nbgrader": {
     "checksum": "8f24e3bf890299503af4561915a23915",
     "grade": true,
     "grade_id": "cell-69b3830258566c6d",
     "locked": false,
     "points": 0,
     "schema_version": 1,
     "solution": true
    }
   },
   "outputs": [],
   "source": [
    "# Plot the weights of the first layer for the best model \n",
    "\n",
    "# YOUR CODE HERE\n",
    "plt.figure(figsize=(10, 10))\n",
    "plot_digits_with_cmap(train_configs[0].mlp.V.w[1:].T, 4, cmap='afmhot')\n"
   ]
  },
  {
   "cell_type": "markdown",
   "metadata": {
    "deletable": false,
    "editable": false,
    "nbgrader": {
     "checksum": "dd6a4522e0601e36fd37c9586a76236e",
     "grade": false,
     "grade_id": "cell-d10e996556dd40e5",
     "locked": true,
     "schema_version": 1,
     "solution": false
    }
   },
   "source": [
    "### 2.3.2. Different activation functions (10 points)\n",
    "In the task above we use a sigmoid as an activation function.\n",
    "Two other popular choices for activation functions are tanh and the rectified linear unit (ReLU). The ReLU is defined as:\n",
    "\n",
    "$$f(x) = \\max(0.,x)$$\n",
    "\n",
    "You already derived the derivative of the softmax function above. Here, write down the derivative for both the tanh and the ReLU function. Furthermore, for all three, plot the function and its derivative in a range $x\\in[-3,3]$"
   ]
  },
  {
   "cell_type": "markdown",
   "metadata": {
    "deletable": false,
    "nbgrader": {
     "checksum": "d67f15590158b453265dcd76b39e6631",
     "grade": true,
     "grade_id": "cell-e049422b1f9ce35e",
     "locked": false,
     "points": 0,
     "schema_version": 1,
     "solution": true
    }
   },
   "source": [
    "Write down the derivative of ReLU and tanh w.r.t. their respective argument:\n",
    "\n",
    "YOUR ANSWER HERE\n",
    "\\begin{align}\n",
    "    \\frac{\\partial \\mbox{ReLU}(x)}{\\partial x} = \\frac{\\partial \\mbox{max}(0, x)}{\\partial x} = \n",
    "    \\begin{cases}\n",
    "        0 & \\mbox{if } x < 0 \\\\ \n",
    "        1 & \\mbox{if } x > 0 \n",
    "    \\end{cases}\n",
    "\\end{align}\n",
    "\n",
    "\\begin{align}\n",
    "    \\frac{\\partial tanh(x)}{\\partial x} = \n",
    "    \\frac{\\partial}{\\partial x} \\left(\\frac{e^x - e^{-x}}{e^x + e^{-x}}\\right) = \n",
    "    \\frac{(e^x + e^{-x}) (e^x + e^{-x}) - (e^x - e^{-x}) (e^x - e^{-x}) }{(e^x + e^{-x})^2} = \n",
    "    1 - \\tanh^2(x)\n",
    "\\end{align}\n",
    "\n",
    "Name two properties that you would like your activation function to have (one sentence each). Why are they important?\n",
    "\n",
    "YOUR ANSWER HERE\n",
    "\n",
    "TODO"
   ]
  },
  {
   "cell_type": "code",
   "execution_count": null,
   "metadata": {},
   "outputs": [],
   "source": [
    "class Tanh:\n",
    "    def __call__(self, x):\n",
    "        self.x = x\n",
    "        return (np.exp(x) - np.exp(-x)) / (np.exp(x) + np.exp(-x))\n",
    "    \n",
    "    def backward(self, delta):\n",
    "        return (1 - self(self.x) ** 2) * delta"
   ]
  },
  {
   "cell_type": "code",
   "execution_count": null,
   "metadata": {},
   "outputs": [],
   "source": [
    "class ReLU:\n",
    "    def __call__(self, x):\n",
    "        self.x = x\n",
    "        return np.maximum(0, x)\n",
    "    \n",
    "    def backward(self, delta):\n",
    "        return (self.x > 0).astype(float) * delta"
   ]
  },
  {
   "cell_type": "code",
   "execution_count": null,
   "metadata": {},
   "outputs": [],
   "source": [
    "tanh = Tanh()\n",
    "sigmoid = Sigmoid()\n",
    "relu = ReLU()"
   ]
  },
  {
   "cell_type": "code",
   "execution_count": null,
   "metadata": {
    "deletable": false,
    "nbgrader": {
     "checksum": "9121f55cf725651c75e033f7ca13ee92",
     "grade": true,
     "grade_id": "cell-ecd7fbb4f1ece014",
     "locked": false,
     "points": 5,
     "schema_version": 1,
     "solution": true
    }
   },
   "outputs": [],
   "source": [
    "# plot the function and the derivative for the activations sigmoid, tanh and ReLU.\n",
    "\n",
    "# YOUR CODE HERE\n",
    "test_data = np.arange(-10, 10, 0.001)\n",
    "plt.figure(figsize=(12, 8))\n",
    "plt.plot(test_data, sigmoid(test_data), label='σ(x)')\n",
    "plt.plot(test_data, sigmoid.backward(1), label='∇σ(x)')\n",
    "plt.plot(test_data, tanh(test_data), label='tanh(x)')\n",
    "plt.plot(test_data, tanh.backward(1), label='∇tanh(x)')\n",
    "plt.plot(test_data, relu(test_data), label='ReLU(x)')\n",
    "plt.plot(test_data, relu.backward(1), label='∇ReLU(x)')\n",
    "plt.legend()\n",
    "plt.xlim(xmin=-3, xmax=3)\n",
    "plt.ylim(ymin=-2, ymax=2)\n",
    "plt.title(\"Activation functions\")"
   ]
  },
  {
   "cell_type": "markdown",
   "metadata": {
    "deletable": false,
    "nbgrader": {
     "checksum": "928719563cd5a64fe7fbbe05361a4f9e",
     "grade": true,
     "grade_id": "cell-b80eb6b6816d09f7",
     "locked": false,
     "points": 5,
     "schema_version": 1,
     "solution": true
    }
   },
   "source": [
    "Now that you plotted the activations and derivatives, which activation do you think is the best? Why would you choose this activation function? For your answer consider what you named as essential properties for an activation function above. Keep your answer short at no more then 3 sentences.\n",
    "\n",
    "YOUR ANSWER HERE\n",
    "\n",
    "TODO"
   ]
  },
  {
   "cell_type": "code",
   "execution_count": null,
   "metadata": {
    "deletable": false,
    "editable": false,
    "nbgrader": {
     "checksum": "c45d88c24c3a46a7b1ce3d417bf56c96",
     "grade": false,
     "grade_id": "cell-995c4d580f198861",
     "locked": true,
     "schema_version": 1,
     "solution": false
    }
   },
   "outputs": [],
   "source": [
    "print('Notebook ran in {:2.3} minutes.'.format((time.time()-start)/60))"
   ]
  },
  {
   "cell_type": "code",
   "execution_count": null,
   "metadata": {},
   "outputs": [],
   "source": []
  }
 ],
 "metadata": {
  "kernelspec": {
   "display_name": "Python [default]",
   "language": "python",
   "name": "python3"
  },
  "language_info": {
   "codemirror_mode": {
    "name": "ipython",
    "version": 3
   },
   "file_extension": ".py",
   "mimetype": "text/x-python",
   "name": "python",
   "nbconvert_exporter": "python",
   "pygments_lexer": "ipython3",
   "version": "3.6.4"
  },
  "toc": {
   "base_numbering": 1,
   "nav_menu": {},
   "number_sections": true,
   "sideBar": true,
   "skip_h1_title": false,
   "title_cell": "Table of Contents",
   "title_sidebar": "Contents",
   "toc_cell": false,
   "toc_position": {
    "height": "calc(100% - 180px)",
    "left": "10px",
    "top": "150px",
    "width": "291px"
   },
   "toc_section_display": true,
   "toc_window_display": true
  },
  "varInspector": {
   "cols": {
    "lenName": 16,
    "lenType": 16,
    "lenVar": 40
   },
   "kernels_config": {
    "python": {
     "delete_cmd_postfix": "",
     "delete_cmd_prefix": "del ",
     "library": "var_list.py",
     "varRefreshCmd": "print(var_dic_list())"
    },
    "r": {
     "delete_cmd_postfix": ") ",
     "delete_cmd_prefix": "rm(",
     "library": "var_list.r",
     "varRefreshCmd": "cat(var_dic_list()) "
    }
   },
   "types_to_exclude": [
    "module",
    "function",
    "builtin_function_or_method",
    "instance",
    "_Feature"
   ],
   "window_display": false
  }
 },
 "nbformat": 4,
 "nbformat_minor": 1
}
